{
 "cells": [
  {
   "cell_type": "markdown",
   "metadata": {},
   "source": [
    "# Logistic Regression\n",
    "\n",
    "Author: Filip Kołodziejczyk"
   ]
  },
  {
   "cell_type": "markdown",
   "metadata": {},
   "source": [
    "## Prerequisites"
   ]
  },
  {
   "cell_type": "code",
   "execution_count": 24,
   "metadata": {},
   "outputs": [],
   "source": [
    "from sklearn.linear_model import LogisticRegression\n",
    "import numpy as np\n",
    "import matplotlib.pyplot as plt"
   ]
  },
  {
   "cell_type": "markdown",
   "metadata": {},
   "source": [
    "## Theoretical Introduction\n",
    "\n",
    "$$y_i = \\{0, 1\\}$$\n",
    "$$x_i = (x_{i1}, x_{i2}, \\ldots, x_{ip})$$\n",
    "$$P(y_i = 1 | x_i) = \\sigma(\\Beta_0 + \\Beta x_i^T)$$\n",
    "$$\\sigma(s) = \\frac{1}{1 + e^{-s}} \\quad \\textrm{(sigmoid function)}$$\n",
    "$$P(y_i = 0 | x_i) = 1 - P(y_i = 1 | x_i)$$\n",
    "$$P(y_1 = 1 | x_1) \\geq 0.5 \\quad \\Rightarrow \\quad \\textrm{assign } x_1 \\textrm{ to class 1}$$\n",
    "$$P(y_1 = 1 | x_1) \\geq 0.5 \\quad \\Leftrightarrow \\quad x_i^T \\Beta + \\Beta_0 \\gt 0 \\quad \\textrm{(linearity)}$$\n",
    "$$L(\\beta, \\beta_0) = \\sum_{i=1}^n log P(y_i | x_i) = \\sum_{i=1}^n y_i log \\sigma(\\beta_0 + \\beta x_i^T) + (1 - y_i) log (1 - \\sigma(\\beta_0 + \\beta x_i^T))$$\n",
    "$$\\hat{\\Beta}, \\hat{\\Beta_0} = \\argmax_{\\beta, \\beta_0} [-L(\\beta, \\beta_0)]$$\n",
    "$$\\hat{\\Beta}, \\hat{\\Beta_0} = \\argmax_{\\beta, \\beta_0} [-L(\\beta, \\beta_0) + \\lambda ||\\beta||_2^2] \\quad \\textrm{(L2 regularization)}$$\n"
   ]
  },
  {
   "cell_type": "code",
   "execution_count": null,
   "metadata": {},
   "outputs": [],
   "source": []
  },
  {
   "cell_type": "markdown",
   "metadata": {},
   "source": [
    "## Task 2\n",
    "\n",
    "### Instructions\n",
    "\n",
    "Generate data from logistic model:\n",
    "$$y_i \\sim Bern(p_i)$$\n",
    "$$p_i = \\frac{1}{1 + \\exp{[-(\\beta_0 + \\beta_1 x_{i1} + \\dots + \\beta_5 x_{i5})}]}$$\n",
    "for $i = 1, \\dots, n$, $x_{i1}, \\dots, x_{i5} \\sim N(0,1)$, $n = 50$.  \n",
    "Parameters $\\beta_0 = 0.5, \\beta_1 = \\dots = \\beta_5 = 1$.  \n",
    "Fit logistic model and calculate the estimators of coefficients $\\hat{\\beta} = (\\hat{\\beta_1}, \\dots, \\hat{\\beta_5})$.\n",
    "Repeat the experiment $L = 100$ times and compute MSE ($||\\cdot||$ is Euclidean norm)\n",
    "$$MSE = E[||\\hat{\\beta} - \\beta||^2]$$"
   ]
  },
  {
   "cell_type": "code",
   "execution_count": 25,
   "metadata": {},
   "outputs": [],
   "source": [
    "b0 = 0.5\n",
    "b = np.ones(5)\n",
    "L = 100  # number of experiment repetitions\n",
    "\n",
    "\n",
    "def generate_data(n) -> tuple[np.array, np.array]:\n",
    "    def _p(x: np.array) -> float:\n",
    "        denom = 1 + np.exp(-b0 - np.dot(b, x))\n",
    "        return 1 / denom\n",
    "\n",
    "    def _y(p: float) -> int:\n",
    "        return np.random.binomial(1, p)\n",
    "\n",
    "    X = np.random.normal(size=(n, 5))\n",
    "    y = np.array([_y(_p(x)) for x in X])\n",
    "    return X, y\n",
    "\n",
    "\n",
    "def experiment(X: np.array, y: np.array) -> np.array:\n",
    "    model = LogisticRegression(C=1000)\n",
    "    model.fit(X, y)\n",
    "    b_approx = model.coef_\n",
    "    return b_approx"
   ]
  },
  {
   "cell_type": "markdown",
   "metadata": {},
   "source": [
    "### Task 2.1\n",
    "\n",
    "Repeat the experiment for $n = 50, 60, 70, 80, 90, 100, 200, 300 . . . , 1000$ and make a plot showing how $MSE$ depends on $n$."
   ]
  },
  {
   "cell_type": "code",
   "execution_count": 29,
   "metadata": {},
   "outputs": [
    {
     "data": {
      "image/png": "[encoded data removed]",
      "text/plain": [
       "<Figure size 640x480 with 1 Axes>"
      ]
     },
     "metadata": {},
     "output_type": "display_data"
    }
   ],
   "source": [
    "# Generate sequence from 50 to 100 by 10 and concat with sequence from 200 to 1000 by 100\n",
    "n_values = np.concatenate([np.arange(50, 100, 10), np.arange(100, 1001, 100)])\n",
    "\n",
    "mse_values = []\n",
    "\n",
    "data = [generate_data(n) for _ in range(L) for n in n_values]\n",
    "for n in n_values:\n",
    "    b_approx = np.array([experiment(n) for _ in range(L)])\n",
    "    mse = np.mean((b_approx - b)**2)\n",
    "    mse_values.append(mse)\n",
    "\n",
    "# plot\n",
    "plt.plot(n_values, mse_values)\n",
    "plt.xlabel('n')\n",
    "plt.ylabel('MSE')\n",
    "plt.show()"
   ]
  },
  {
   "cell_type": "markdown",
   "metadata": {},
   "source": [
    "### Task 2.2\n",
    "\n",
    "Using the same datasets, train the model based only on 3 variables: $x_{i1}, x_{i2}, x_{i3}$ and draw the analogous curve showing how $MSE$ for $\\beta = (\\beta_1, \\beta_2, \\beta_3)$ depends on $n$."
   ]
  },
  {
   "cell_type": "code",
   "execution_count": null,
   "metadata": {},
   "outputs": [],
   "source": []
  }
 ],
 "metadata": {
  "kernelspec": {
   "display_name": "advanced-ml",
   "language": "python",
   "name": "python3"
  },
  "language_info": {
   "codemirror_mode": {
    "name": "ipython",
    "version": 3
   },
   "file_extension": ".py",
   "mimetype": "text/x-python",
   "name": "python",
   "nbconvert_exporter": "python",
   "pygments_lexer": "ipython3",
   "version": "3.11.7"
  }
 },
 "nbformat": 4,
 "nbformat_minor": 2
}
